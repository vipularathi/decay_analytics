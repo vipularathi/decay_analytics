{
 "cells": [
  {
   "cell_type": "markdown",
   "metadata": {},
   "source": [
    "# New Codes"
   ]
  },
  {
   "cell_type": "markdown",
   "metadata": {},
   "source": [
    "#### install the required libraries"
   ]
  },
  {
   "cell_type": "markdown",
   "metadata": {},
   "source": [
    "!pip install -r requirements.txt"
   ]
  },
  {
   "cell_type": "markdown",
   "metadata": {},
   "source": [
    "#### import the required libraries"
   ]
  },
  {
   "cell_type": "code",
   "execution_count": 1,
   "metadata": {},
   "outputs": [],
   "source": [
    "import glob\n",
    "import os\n",
    "import pandas as pd\n",
    "from datetime import datetime\n",
    "import time\n",
    "import matplotlib.pyplot as plt\n",
    "import matplotlib.dates as mdates\n",
    "from matplotlib.widgets import Cursor\n",
    "%matplotlib inline\n",
    "import numpy as np\n",
    "import warnings\n",
    "\n",
    "# Suppress the specific SettingWithCopyWarning\n",
    "warnings.filterwarnings(\"ignore\", category=pd.errors.SettingWithCopyWarning)"
   ]
  },
  {
   "cell_type": "markdown",
   "metadata": {},
   "source": [
    "#### boilerplate definitions"
   ]
  },
  {
   "cell_type": "code",
   "execution_count": 2,
   "metadata": {},
   "outputs": [],
   "source": [
    "# root_dir = os.path.dirname(os.path.abspath(__file__))\n",
    "root_dir = os.getcwd()\n",
    "data_dir = os.path.join(root_dir, f'data/')\n",
    "# pickle_dir = os.path.join(data_dir, 'straddle_pickle_files/')\n",
    "logs_dir = os.path.join(root_dir,'logs/')\n",
    "# table_dir = os.path.join(data_dir, 'tables/')\n",
    "data_path = \"W:\\Options & Futures Data\\Intraday straddle and IV\"\n",
    "dir_list = [data_dir, logs_dir]\n",
    "status = [os.makedirs(_dir, exist_ok=True) for _dir in dir_list if not os.path.exists(_dir)]\n",
    "\n",
    "holidays_24 = ['2024-01-22', '2024-01-26', '2024-03-08', '2024-03-25', '2024-03-29', '2024-04-11', '2024-04-17', '2024-05-01', '2024-06-17', '2024-07-17', '2024-08-15', '2024-10-02', '2024-11-01', '2024-11-15', '2024-12-25']\n",
    "holidays = pd.to_datetime(holidays_24)\n",
    "excluded_dates = []\n",
    "if excluded_dates is not None:\n",
    "    excluded_dates = pd.to_datetime(excluded_dates)\n",
    "    holidays = holidays[~holidays.isin(excluded_dates)]\n",
    "\n",
    "b_days = pd.bdate_range(start=pd.to_datetime('2024-05-23'), end=pd.to_datetime(datetime.now().date().strftime('%Y-%m-%d')), holidays=holidays, freq='C', weekmask='1111100').tolist()\n",
    "pd.set_option('display.max_columns', None) #this would display all the columns of dataframe\n",
    "# pd.set_option(\"display.max_rows\", None) #this would display all the rows of dataframe"
   ]
  },
  {
   "cell_type": "markdown",
   "metadata": {},
   "source": [
    "#### defining global df_bids, df_cummulative and business days range"
   ]
  },
  {
   "cell_type": "code",
   "execution_count": 3,
   "metadata": {},
   "outputs": [],
   "source": [
    "df_cummulative = pd.DataFrame(columns=['Date'])\n",
    "df_bids=pd.DataFrame(columns=['Date','Straddle_Name','bid','bid_time','bid_price','decay','decay_time','decay_price'])\n",
    "start_date = str(input('Enter start date in YYYY-MM-DD format:\\t'))\n",
    "start_date = pd.to_datetime(start_date)\n",
    "end_date = str(input('Enter end date in YYYY-MM-DD format:\\t'))\n",
    "end_date = pd.to_datetime(end_date)\n",
    "if start_date > end_date:\n",
    "    raise ValueError('Start date must be less than end date')\n",
    "use_date_range = [use_date.date() for use_date in b_days if start_date<=use_date<=end_date]"
   ]
  },
  {
   "cell_type": "markdown",
   "metadata": {},
   "source": [
    "#### df_bids and df_cummulative calculations"
   ]
  },
  {
   "cell_type": "code",
   "execution_count": 4,
   "metadata": {},
   "outputs": [],
   "source": [
    "def bid_summary(df):\n",
    "    use_date = df.get('Date').unique()[0]\n",
    "    straddle_name = df.get('straddle_name').unique()[0]\n",
    "    dfbid = df.copy()\n",
    "    dfbid['cummax']=dfbid['Straddle'].cummax()\n",
    "    dfbid['cummin']=dfbid['Straddle'].cummin()\n",
    "    dfbid['Bid']=dfbid['Straddle']-dfbid['cummin']\n",
    "    dfbid['Decay']=dfbid['cummax']-dfbid['Straddle']\n",
    "    bid=dfbid['Bid'].max()\n",
    "    decay=dfbid['Decay'].max()\n",
    "    bid_time=dfbid.loc[dfbid['Bid']==bid].reset_index()['Timestamp']\n",
    "    bid_price=dfbid.loc[dfbid['Bid']==bid].reset_index()['Straddle']\n",
    "    decay_price=dfbid.loc[dfbid['Decay']==decay].reset_index()['Straddle']\n",
    "    decay_time=dfbid.loc[dfbid['Decay']==decay].reset_index()['Timestamp']\n",
    "    each_row = pd.DataFrame([[use_date,straddle_name,bid,bid_time[0],bid_price[0],decay,decay_time[0],decay_price[0]]],\n",
    "                columns=['Date','Straddle_Name','bid','bid_time','bid_price','decay','decay_time','decay_price'])\n",
    "    # df_cummulative = pd.concat([df_cummulative, dfbid])\n",
    "    dfbid = dfbid.drop(['cummax', 'cummin'], axis=1)\n",
    "    if bid_time[0] < decay_time[0]:\n",
    "        start_time = bid_time[0]\n",
    "        end_time = decay_time[0]\n",
    "    else:\n",
    "        start_time = decay_time[0]\n",
    "        end_time = bid_time[0]\n",
    "    dfbid = dfbid.query('Timestamp >= @start_time and Timestamp <= @end_time')\n",
    "\n",
    "    dfbid.sort_values(by=['Decay'], ascending = False, inplace=True)\n",
    "    return each_row, dfbid\n",
    "\n",
    "def calc_bid_and_cummulative():\n",
    "    global df_bids, df_cummulative\n",
    "    for each_date in use_date_range:\n",
    "        file_name = f'iv_chart_table_data_{each_date.strftime(\"%d_%m_%Y\")}.csv'\n",
    "        df = pd.read_csv(os.path.join(data_path, file_name)) # if we have range of dates, then for each date, concat df\n",
    "        # df_cummulative = pd.DataFrame(columns=['Date'])\n",
    "        # df_bids=pd.DataFrame(columns=['Date','Straddle_Name','bid','bid_time','bid_price','decay','decay_time','decay_price'])\n",
    "        df_copy = df.drop(df.columns[~df.columns.isin(set(['timestamp', 'underlying', 'expiry', 'strike', 'combined_premium']))], axis=1).copy()\n",
    "        df_copy['timestamp'] = pd.to_datetime(df_copy.timestamp)\n",
    "        df_copy['Date'] = df_copy.timestamp.dt.date.astype(str)\n",
    "        df_copy['Timestamp'] = df_copy.timestamp.dt.time.astype(str)\n",
    "        df_copy = df_copy.drop('timestamp', axis=1)\n",
    "        df_copy.rename(columns = {'combined_premium':'Straddle', 'underlying':'straddle_name'}, inplace=True)\n",
    "        df_copy = df_copy.reindex(['Date', 'Timestamp', 'straddle_name', 'expiry', 'strike', 'Straddle'], axis=1)\n",
    "        grouped_df = df_copy.groupby(['Date','straddle_name'])['expiry'].unique().reset_index()\n",
    "\n",
    "        for index, row in grouped_df.iterrows():\n",
    "            use_date = row['Date']\n",
    "            symbol = row['straddle_name']\n",
    "            exp_list = sorted(row['expiry'])\n",
    "            for i in range(len(exp_list)):\n",
    "                each_exp = exp_list[i]\n",
    "                df1 = df_copy.query('Date == @use_date and straddle_name == @symbol and expiry == @each_exp')\n",
    "                if i == 0:\n",
    "                    df1.loc[:,'straddle_name'] = df1['straddle_name'].astype(str) + '_CW'\n",
    "                elif i == 1:\n",
    "                    df1.loc[:,'straddle_name'] = df1['straddle_name'].astype(str) + '_NW'\n",
    "                elif i == 2:\n",
    "                    df1.loc[:,'straddle_name'] = df1['straddle_name'].astype(str) + '_CM'\n",
    "                else:\n",
    "                    df1.loc[:,'straddle_name'] = df1['straddle_name'].astype(str) + '_NM'\n",
    "\n",
    "                # code to find df_bids and df_cummulative\n",
    "                try:\n",
    "                    each_row, dfbid = bid_summary(df1)\n",
    "                    df_cummulative = pd.concat([df_cummulative, dfbid])\n",
    "                    df_bids = pd.concat([df_bids, each_row])\n",
    "                    print(f'{symbol} {each_exp} done')\n",
    "                except Exception as e:\n",
    "                    print(f'Error is {e}')\n",
    "    df_bids.columns = map(str.lower, df_bids.columns)\n",
    "    df_cummulative.columns = map(str.lower, df_cummulative.columns)\n",
    "    # no of strikes(col) in df_bids for each straddle_name for each date and expiry\n",
    "    df_cummulative['strike'] = df_cummulative['strike'].apply(lambda row: int(row))\n",
    "    bid_date_list = df_bids['date'].unique().tolist()\n",
    "    strd_name_list = df_bids['straddle_name'].unique().tolist()\n",
    "    for each_bid_date in bid_date_list:\n",
    "        for each_strd_name in strd_name_list:\n",
    "            num_strikes = len(df_cummulative.query(\"date == @each_bid_date and straddle_name == @each_strd_name\"))\n",
    "            df_bids.loc[(df_bids['date'] == each_bid_date) & (df_bids['straddle_name'] == each_strd_name), 'num_strikes'] = num_strikes\n",
    "            # ---------------------------------------------------------------------------------------\n",
    "            st_list = df_cummulative.query(\"date == @each_bid_date and straddle_name == @each_strd_name\")['strike'].unique().tolist()\n",
    "            max_decay_list = []\n",
    "            for each_strike in st_list:\n",
    "                max_decay_list.append(df_cummulative.query(\"date == @each_bid_date and straddle_name == @each_strd_name and strike == @each_strike\")['decay'].max().round(2))\n",
    "            st_num = len(st_list)\n",
    "            st_str = ','.join(map(str, sorted(st_list)))\n",
    "            decay_str = ','.join(map(str, max_decay_list))\n",
    "            df_bids.loc[(df_bids['date'] == each_bid_date) & (df_bids['straddle_name'] == each_strd_name), 'num_strikes'] = st_num\n",
    "            df_bids.loc[(df_bids['date'] == each_bid_date) & (df_bids['straddle_name'] == each_strd_name), 'distinct_strikes'] = st_str\n",
    "            df_bids.loc[(df_bids['date'] == each_bid_date) & (df_bids['straddle_name'] == each_strd_name), 'max_decay'] = decay_str\n",
    "    df_bids['num_strikes'] = df_bids['num_strikes'].astype(int)\n",
    "    return df_bids, df_cummulative"
   ]
  },
  {
   "cell_type": "code",
   "execution_count": 5,
   "metadata": {},
   "outputs": [
    {
     "name": "stdout",
     "output_type": "stream",
     "text": [
      "BANKNIFTY 2024-10-23 done\n",
      "BANKNIFTY 2024-10-30 done\n",
      "FINNIFTY 2024-10-29 done\n",
      "FINNIFTY 2024-11-05 done\n",
      "MIDCPNIFTY 2024-10-28 done\n",
      "MIDCPNIFTY 2024-11-04 done\n",
      "NIFTY 2024-10-24 done\n",
      "NIFTY 2024-10-31 done\n",
      "NIFTY 2024-11-28 done\n",
      "NIFTY 2024-12-26 done\n"
     ]
    },
    {
     "name": "stderr",
     "output_type": "stream",
     "text": [
      "C:\\Users\\vipulanand\\AppData\\Local\\Temp\\ipykernel_39516\\2139973046.py:66: FutureWarning: The behavior of DataFrame concatenation with empty or all-NA entries is deprecated. In a future version, this will no longer exclude empty or all-NA columns when determining the result dtypes. To retain the old behavior, exclude the relevant entries before the concat operation.\n",
      "  df_bids = pd.concat([df_bids, each_row])\n"
     ]
    }
   ],
   "source": [
    "df_bids, df_cummulative = calc_bid_and_cummulative()\n",
    "# print(df_bids)\n",
    "# print(df_cummulative)"
   ]
  },
  {
   "cell_type": "code",
   "execution_count": 6,
   "metadata": {},
   "outputs": [],
   "source": [
    "# print(df_bids)\n",
    "df_bids.to_csv('index_bids_23_10_2024.csv', index=False)\n",
    "df_cummulative.to_csv('index_cummulative_23_10_2024.csv', index=False)"
   ]
  },
  {
   "cell_type": "code",
   "execution_count": 24,
   "metadata": {},
   "outputs": [],
   "source": [
    "df_cummulative.query(\"straddle_name=='BANKNIFTY_CW'\").to_csv('test1.csv')"
   ]
  },
  {
   "cell_type": "markdown",
   "metadata": {},
   "source": [
    "#### plot graph using df_cummulative"
   ]
  },
  {
   "cell_type": "code",
   "execution_count": 7,
   "metadata": {},
   "outputs": [],
   "source": [
    "def plot_graph(use_date, strd_name):\n",
    "    # global df_bids, df_cummulative\n",
    "    print(f'Your choice => date {use_date}, strd_name {strd_name}')\n",
    "    dfx = df_cummulative.query('date == @use_date and straddle_name == @strd_name').copy()\n",
    "    dfx['date_timestamp'] = pd.to_datetime(dfx['date'] + ' ' + dfx['timestamp'])\n",
    "    df_grouped = dfx.groupby('strike')['decay'].max().reset_index()\n",
    "    ax = df_grouped.plot(kind = 'bar', x = 'strike', y = 'decay', legend = True, grid = True)\n",
    "    ax.set_xlabel('Strike')\n",
    "    ax.set_ylabel('Decay')\n",
    "    # dfx.plot.bar(x = 'strike', y = 'decay')\n",
    "    ax.set_title(f'Strike vs Decay for {use_date} {strd_name}')\n",
    "    # plt.xticks(rotation=45)\n",
    "    plt.show()"
   ]
  },
  {
   "cell_type": "code",
   "execution_count": 8,
   "metadata": {},
   "outputs": [
    {
     "name": "stdout",
     "output_type": "stream",
     "text": [
      "your choice for dates - ['2024-10-22']\n",
      "Your choice => date 2024-10-22, strd_name NIFTY_CW\n"
     ]
    },
    {
     "data": {
      "image/png": "[encoded data removed]",
      "text/plain": [
       "<Figure size 640x480 with 1 Axes>"
      ]
     },
     "metadata": {},
     "output_type": "display_data"
    }
   ],
   "source": [
    "strd_name = str(input('Enter straddle_name(BANKNIFTY_CW, BANKNIFTY_NW etc) for which graph needs to be plotted:\\t'))\n",
    "print(f'your choice for dates - {df_cummulative[\"date\"].unique().tolist()}')\n",
    "use_date = str(input('Enter date in format - YYYY-MM-DD\\t'))\n",
    "# use_date = pd.to_datetime(use_date)\n",
    "# strd_name = 'NIFTY_CW' # ca\n",
    "# use_date = '2024-09-25'\n",
    "plot_graph(use_date, strd_name)\n",
    "\n",
    "# print(f'df_bids is \\n{df_bids}')\n",
    "# print(f'df_cummulative is \\n{df_cummulative}')"
   ]
  }
 ],
 "metadata": {
  "kernelspec": {
   "display_name": "venv",
   "language": "python",
   "name": "python3"
  },
  "language_info": {
   "codemirror_mode": {
    "name": "ipython",
    "version": 3
   },
   "file_extension": ".py",
   "mimetype": "text/x-python",
   "name": "python",
   "nbconvert_exporter": "python",
   "pygments_lexer": "ipython3",
   "version": "3.11.8"
  }
 },
 "nbformat": 4,
 "nbformat_minor": 2
}
